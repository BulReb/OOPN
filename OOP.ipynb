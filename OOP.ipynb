{
  "cells": [
    {
      "cell_type": "markdown",
      "id": "442e6292",
      "metadata": {
        "id": "442e6292"
      },
      "source": [
        "# Einführung in die objektorientierte Programmierung mit Python\n",
        "\n",
        "Aus den bisherigen Vorlesungen kennen Sie bereits die einfachen Programmierkonstrukte wie\n",
        "* Variablen\n",
        "* Schleifen\n",
        "* Bedingungen\n",
        "* Funktionen.\n",
        "\n",
        "Sie kennen auch bereits die einfachen Datenstrukturen wie\n",
        "* Listen (**list**)\n",
        "* Dictionaries (**dict**)\n",
        "* Schlangen (hier Double-Ended-Queues, **deque**).\n",
        "\n",
        "Als nächstes werden wir die grundlegenden Konstrukte der Objektorientierung am Beispiel des Sensors und des Aktors aus der Vorlesung kennenlernen.\n",
        "\n",
        "In der folgenden Abbildung sehen Sie dazu noch einmal den Aufbau des Systems:\n",
        "\n",
        "![Systemaufbau](https://github.com/BulReb/OOP/blob/main/aufbau.png?raw=true)\n",
        "\n",
        "Der Einfachheit halber sagen wir hier, dass ein Werkstück durch einen Farbwert repräsentiert wird (RGB) und wir speichern die Werte in einem Dictionary (dict)"
      ]
    },
    {
      "cell_type": "code",
      "execution_count": 1,
      "id": "81638d27",
      "metadata": {
        "id": "81638d27"
      },
      "outputs": [],
      "source": [
        "werkstueck1 = { 'r': 175, 'g': 35, 'b': 7 }\n",
        "werkstueck2 = { 'r': 3, 'g': 45, 'b': 162 }"
      ]
    },
    {
      "cell_type": "markdown",
      "id": "bbdd8def",
      "metadata": {
        "id": "bbdd8def"
      },
      "source": [
        "Das so definierte Werkstück 1 hat **<font color=\"#AF2307\">diese Farbe (RGB: 175, 35, 7)</font>** - ist also \"ziemlich rot\", während Werkstück 2 **<font color=\"#032DA2\">ziemlich blau aussieht (RGB: 3, 45, 162)</font>**."
      ]
    },
    {
      "cell_type": "markdown",
      "id": "d6b998bd",
      "metadata": {
        "id": "d6b998bd"
      },
      "source": [
        "## Erstellung der Sensor-Klasse\n",
        "Wir fangen nun damit an, unseren Kamerasensor zu definieren. Wir definieren dazu zunächst den Bauplan (die Klasse) **Sensor**.\n",
        "\n",
        "Sensoren sollen Schwellwerte für die einzelnen Farben haben - der Einfachheit halber nehmen wir hier nur einen Minimalwert für Rot (**minRot**) und einen Maxmalwert für die beiden anderen Farben (**maxGruen** und **maxBlau**)\n",
        "\n",
        "#### Das Klassengerüst und die Attribute\n",
        "In Python definieren wir die Attribute innerhalb eines Konstruktors (erzeugende Funktion), der den Namen **\\_\\_init\\_\\_** haben muss und wie einen speziellen Parameter **\\_\\_self\\_\\_** als ersten Parameter haben muss.\n",
        "*\\_\\_self\\_\\_* ist der Bezeichner für ein **Objekt** (eine Instanz) der Klasse, also z.B. unseren konkreten Sensor.\n",
        "\n",
        "Das folgende Codestück zeigt, wie das aussehen kann:"
      ]
    },
    {
      "cell_type": "code",
      "execution_count": 2,
      "id": "fa4039db",
      "metadata": {
        "id": "fa4039db"
      },
      "outputs": [],
      "source": [
        "class Sensor:\n",
        "    \n",
        "    def __init__(self):\n",
        "        self.minRot = 160    # minimaler Rotwert\n",
        "        self.maxGruen = 48   # maximaler Grünwert\n",
        "        self.maxBlau = 48    # maximaler Blauwert\n"
      ]
    },
    {
      "cell_type": "markdown",
      "id": "a36265b5",
      "metadata": {
        "id": "a36265b5"
      },
      "source": [
        "#### Funktionalität\n",
        "Unser Sensor \"kann\" aber bisher noch nichts - er hat noch keine Funktionalität und wir wollen ja, dass er ein Werkstück bezügich der Farbe klassifiziert, also entscheidet, ob ein Werkstück gut (rot genug) oder nicht gut ist.\n",
        "\n",
        "Dazu müssen wir dem Sensor eine entsprechende Funktion hinzufügen, eine Methode:"
      ]
    },
    {
      "cell_type": "code",
      "execution_count": 3,
      "id": "19792312",
      "metadata": {
        "id": "19792312"
      },
      "outputs": [],
      "source": [
        "class Sensor:\n",
        "    \n",
        "    def __init__(self):\n",
        "        self.minRot = 160    # minimaler Rotwert \n",
        "        self.maxGruen = 48   # maximaler Grünwert \n",
        "        self.maxBlau = 48    # maximaler Blauwert\n",
        "        \n",
        "    def pruefen(self, werkstueck) -> bool:\n",
        "        if (\n",
        "            (werkstueck['r'] >= self.minRot) and\n",
        "            (werkstueck['g'] <= self.maxGruen) and\n",
        "            (werkstueck['b'] <= self.maxBlau)\n",
        "        ):\n",
        "            return True\n",
        "        else:\n",
        "            return False"
      ]
    },
    {
      "cell_type": "markdown",
      "id": "050930b6",
      "metadata": {
        "id": "050930b6"
      },
      "source": [
        "Wir haben jetzt also einen Bauplan für einen Sensor, der ein \"gesehenes\" Werkstück anhand seiner Farbe klassifizieren kann.\n",
        "\n",
        "#### Instanziieren und Funktionalität nutzen\n",
        "Damit wir das auch nutzen können, benötigen wir eine Instanz dieser Klasse, also ein konkretes Objekt, mit dem wir unsere beiden Werkstücke von oben prüfen können."
      ]
    },
    {
      "cell_type": "code",
      "execution_count": 4,
      "id": "6c489133",
      "metadata": {
        "colab": {
          "base_uri": "https://localhost:8080/"
        },
        "id": "6c489133",
        "outputId": "70d3bb91-9d9a-4e73-85fd-83ba2a8efac0"
      },
      "outputs": [
        {
          "output_type": "stream",
          "name": "stdout",
          "text": [
            "Sensor:  <__main__.Sensor object at 0x7f5073a1ea10>\n"
          ]
        }
      ],
      "source": [
        "sensor1 = Sensor()\n",
        "print(\"Sensor: \", sensor1)"
      ]
    },
    {
      "cell_type": "markdown",
      "id": "1395c5d5",
      "metadata": {
        "id": "1395c5d5"
      },
      "source": [
        "Diese etwas kryptische Darstellung ist nur die Repräsentation des Objekts in Python - wir können das neu erzeugte Objekt jetzt zum Prüfen unserer Bauteile verwenden:"
      ]
    },
    {
      "cell_type": "code",
      "execution_count": 5,
      "id": "e8b05eb4",
      "metadata": {
        "colab": {
          "base_uri": "https://localhost:8080/"
        },
        "id": "e8b05eb4",
        "outputId": "8fd50082-8820-4401-ec0f-f9e92e5e0c33"
      },
      "outputs": [
        {
          "output_type": "stream",
          "name": "stdout",
          "text": [
            "prüfe Werkstück 1:  {'r': 175, 'g': 35, 'b': 7}  ->  True\n",
            "prüfe Werkstück 2:  {'r': 3, 'g': 45, 'b': 162}  ->  False\n"
          ]
        }
      ],
      "source": [
        "print(\"prüfe Werkstück 1: \", werkstueck1, \" -> \", sensor1.pruefen(werkstueck1))\n",
        "print(\"prüfe Werkstück 2: \", werkstueck2, \" -> \", sensor1.pruefen(werkstueck2))"
      ]
    },
    {
      "cell_type": "markdown",
      "id": "d0fa7922",
      "metadata": {
        "id": "d0fa7922"
      },
      "source": [
        "## Übungsaufgabe\n",
        "Erstellen Sie auf die gleiche Art eine Klasse für den Aktor, der zwei Attribute **druck1** und **druck2** haben soll und der eine Methode **pusten** anbietet, die mit einem Wahrheitswert (_bool_) parametrisiert werden soll. Die Methode soll nur ausgeben, mit welchem \"Druck\" gepustet wird."
      ]
    },
    {
      "cell_type": "code",
      "source": [],
      "metadata": {
        "id": "NA3D3jPiHA2p"
      },
      "id": "NA3D3jPiHA2p",
      "execution_count": 5,
      "outputs": []
    },
    {
      "cell_type": "markdown",
      "source": [
        "## Lösung"
      ],
      "metadata": {
        "id": "4JSQizDcHE9E"
      },
      "id": "4JSQizDcHE9E"
    },
    {
      "cell_type": "code",
      "execution_count": 6,
      "id": "5fb79f41",
      "metadata": {
        "id": "5fb79f41"
      },
      "outputs": [],
      "source": [
        "class Aktor:\n",
        "    \n",
        "    def __init__(self):\n",
        "        self.druck1 = 100 # einfacher Druck\n",
        "        self.druck2 = 300 # erhöhter Druck\n",
        "        \n",
        "    def pusten(self, ist_werkstueck_in_ordnung):\n",
        "        if (ist_werkstueck_in_ordnung):\n",
        "            print(\"pusten: \", self.druck1, \" , Werkstueck in Ordnung.\")\n",
        "        else:\n",
        "            print(\"pusten: \", self.druck2, \" , Werkstueck ist Ausschuss.\")"
      ]
    },
    {
      "cell_type": "markdown",
      "id": "4ada22b7",
      "metadata": {
        "id": "4ada22b7"
      },
      "source": [
        "## Zusammenbau - Integration\n",
        "\n",
        "Sie kennen ja bereits Schlangen - wir erstellen jetzt ein Programm, das das ganze Szenario abdeckt. Dazu erstellen wir im ersten Schritt eine Schlange mit 10 Werkstücken, bei denen wir die RGB-Werte zufällig initialisieren:"
      ]
    },
    {
      "cell_type": "code",
      "execution_count": 7,
      "id": "49cfa5e0",
      "metadata": {
        "colab": {
          "base_uri": "https://localhost:8080/"
        },
        "id": "49cfa5e0",
        "outputId": "9cfec807-41db-459e-c160-ab52e078e3a4"
      },
      "outputs": [
        {
          "output_type": "stream",
          "name": "stdout",
          "text": [
            "deque([{'r': 196, 'g': 48, 'b': 50}, {'r': 183, 'g': 32, 'b': 42}, {'r': 134, 'g': 32, 'b': 46}, {'r': 232, 'g': 42, 'b': 44}, {'r': 212, 'g': 34, 'b': 36}, {'r': 133, 'g': 50, 'b': 48}, {'r': 219, 'g': 45, 'b': 49}, {'r': 224, 'g': 51, 'b': 46}, {'r': 252, 'g': 40, 'b': 48}, {'r': 225, 'g': 36, 'b': 40}])\n"
          ]
        }
      ],
      "source": [
        "import random\n",
        "from collections import deque\n",
        "\n",
        "random.seed(None)\n",
        "werkstuecke = deque()\n",
        "\n",
        "for n in range(0, 10):\n",
        "    werkstueck = {'r': random.randint(128,255), 'g': random.randint(32,51), 'b': random.randint(32,51)}\n",
        "    werkstuecke.append(werkstueck)\n",
        "\n",
        "print(werkstuecke)"
      ]
    },
    {
      "cell_type": "markdown",
      "id": "51a35f7d",
      "metadata": {
        "id": "51a35f7d"
      },
      "source": [
        "Nun erstellen wir die Steuerungslogik, indem wir unsere Warteschlange durchgehen und das jeweils erste Objekt prüfen und ggf. verwerfen."
      ]
    },
    {
      "cell_type": "code",
      "execution_count": 8,
      "id": "cd3791d8",
      "metadata": {
        "scrolled": true,
        "colab": {
          "base_uri": "https://localhost:8080/"
        },
        "id": "cd3791d8",
        "outputId": "1890b3f3-996a-4081-cd97-35f41c2ab4b1"
      },
      "outputs": [
        {
          "output_type": "stream",
          "name": "stdout",
          "text": [
            "prüfe  10  Werkstücke...\n",
            "\n",
            "<<<<pruefen>>>>\n",
            "Werkstueck:  {'r': 196, 'g': 48, 'b': 50}\n",
            "pusten:  300  , Werkstueck ist Ausschuss.\n",
            "\n",
            "<<<<pruefen>>>>\n",
            "Werkstueck:  {'r': 183, 'g': 32, 'b': 42}\n",
            "pusten:  100  , Werkstueck in Ordnung.\n",
            "\n",
            "<<<<pruefen>>>>\n",
            "Werkstueck:  {'r': 134, 'g': 32, 'b': 46}\n",
            "pusten:  300  , Werkstueck ist Ausschuss.\n",
            "\n",
            "<<<<pruefen>>>>\n",
            "Werkstueck:  {'r': 232, 'g': 42, 'b': 44}\n",
            "pusten:  100  , Werkstueck in Ordnung.\n",
            "\n",
            "<<<<pruefen>>>>\n",
            "Werkstueck:  {'r': 212, 'g': 34, 'b': 36}\n",
            "pusten:  100  , Werkstueck in Ordnung.\n",
            "\n",
            "<<<<pruefen>>>>\n",
            "Werkstueck:  {'r': 133, 'g': 50, 'b': 48}\n",
            "pusten:  300  , Werkstueck ist Ausschuss.\n",
            "\n",
            "<<<<pruefen>>>>\n",
            "Werkstueck:  {'r': 219, 'g': 45, 'b': 49}\n",
            "pusten:  300  , Werkstueck ist Ausschuss.\n",
            "\n",
            "<<<<pruefen>>>>\n",
            "Werkstueck:  {'r': 224, 'g': 51, 'b': 46}\n",
            "pusten:  300  , Werkstueck ist Ausschuss.\n",
            "\n",
            "<<<<pruefen>>>>\n",
            "Werkstueck:  {'r': 252, 'g': 40, 'b': 48}\n",
            "pusten:  100  , Werkstueck in Ordnung.\n",
            "\n",
            "<<<<pruefen>>>>\n",
            "Werkstueck:  {'r': 225, 'g': 36, 'b': 40}\n",
            "pusten:  100  , Werkstueck in Ordnung.\n"
          ]
        }
      ],
      "source": [
        "print(\"prüfe \", len(werkstuecke), \" Werkstücke...\")\n",
        "\n",
        "sensor1 = Sensor()\n",
        "aktor1 = Aktor()\n",
        "\n",
        "while werkstuecke:\n",
        "    print(\"\\n<<<<pruefen>>>>\")\n",
        "    werkstueck = werkstuecke.popleft()\n",
        "    print(\"Werkstueck: \", werkstueck)\n",
        "    aktor1.pusten(sensor1.pruefen(werkstueck))"
      ]
    },
    {
      "cell_type": "markdown",
      "id": "9be366cf",
      "metadata": {
        "id": "9be366cf"
      },
      "source": [
        "## Aufgabe\n",
        "Verändern Sie die angegebenen Klassen so, dass sie die Schwellwerte der Sensoren und Aktoren beim Erzeugen der Instanzen verändern können, so dass sie flexiblere Sensoren erhalten.\n",
        "**Tipp:** Dazu müssen Sie der *\\_\\_init\\_\\_*-Methode zusätzliche Parameter mitgeben"
      ]
    },
    {
      "cell_type": "code",
      "source": [],
      "metadata": {
        "id": "q9J4iaNJHOlH"
      },
      "id": "q9J4iaNJHOlH",
      "execution_count": 8,
      "outputs": []
    },
    {
      "cell_type": "markdown",
      "source": [
        "###Lösung"
      ],
      "metadata": {
        "id": "-IXGPKLzHPBN"
      },
      "id": "-IXGPKLzHPBN"
    },
    {
      "cell_type": "code",
      "execution_count": 9,
      "id": "51405975",
      "metadata": {
        "id": "51405975"
      },
      "outputs": [],
      "source": [
        "class FlexiblerAktor:\n",
        "    \n",
        "    def __init__(self, d1, d2):\n",
        "        self.druck1 = d1 # einfacher Druck\n",
        "        self.druck2 = d2 # erhöhter Druck\n",
        "        \n",
        "    def pusten(self, ist_werkstueck_in_ordnung):\n",
        "        if (ist_werkstueck_in_ordnung):\n",
        "            print(\"pusten: \", self.druck1, \" , Werkstueck in Ordnung.\")\n",
        "        else:\n",
        "            print(\"pusten: \", self.druck2, \" , Werkstueck ist Ausschuss.\")"
      ]
    },
    {
      "cell_type": "code",
      "source": [
        "class FlexiblerSensor:\n",
        "    \n",
        "    def __init__(self,r,g,b):\n",
        "        self.minRot = r     # minimaler Rotwert \n",
        "        self.maxGruen = g   # maximaler Grünwert \n",
        "        self.maxBlau = b    # maximaler Blauwert\n",
        "        \n",
        "    def pruefen(self, werkstueck) -> bool:\n",
        "        if (\n",
        "            (werkstueck['r'] >= self.minRot) and\n",
        "            (werkstueck['g'] <= self.maxGruen) and\n",
        "            (werkstueck['b'] <= self.maxBlau)\n",
        "        ):\n",
        "            return True\n",
        "        else:\n",
        "            return False"
      ],
      "metadata": {
        "id": "koothlZyG8J9"
      },
      "id": "koothlZyG8J9",
      "execution_count": 10,
      "outputs": []
    },
    {
      "cell_type": "markdown",
      "source": [
        "Prüfen wir nun die angepasste Umsetzung und testen wir ein weiteres Werkstück damit:"
      ],
      "metadata": {
        "id": "CM-i5oCGIKHg"
      },
      "id": "CM-i5oCGIKHg"
    },
    {
      "cell_type": "code",
      "source": [
        "print(\"prüfe \", len(werkstuecke), \" Werkstücke...\")\n",
        "\n",
        "sensor2 = FlexiblerSensor(100,44,40)\n",
        "aktor2 = FlexiblerAktor(15,150)\n",
        "\n",
        "werkstueck = {'r': random.randint(128,255), 'g': random.randint(32,51), 'b': random.randint(32,51)}\n",
        "print(\"Werkstueck: \", werkstueck)\n",
        "print(\"\\n<<<<pruefen>>>>\")\n",
        "aktor2.pusten(sensor2.pruefen(werkstueck))"
      ],
      "metadata": {
        "colab": {
          "base_uri": "https://localhost:8080/"
        },
        "id": "23zN9F2lHhec",
        "outputId": "3113bc0d-4085-4161-ef01-62b1e61cc374"
      },
      "id": "23zN9F2lHhec",
      "execution_count": 11,
      "outputs": [
        {
          "output_type": "stream",
          "name": "stdout",
          "text": [
            "prüfe  0  Werkstücke...\n",
            "Werkstueck:  {'r': 252, 'g': 42, 'b': 33}\n",
            "\n",
            "<<<<pruefen>>>>\n",
            "pusten:  15  , Werkstueck in Ordnung.\n"
          ]
        }
      ]
    },
    {
      "cell_type": "markdown",
      "source": [
        "# Vererbung und Assoziation\n",
        "Schauen wir uns jetzt an, wie wir Vererbung und Assoziationen bei Klassen einsetzen können, um komplexere Objekte und Beziehungen abzubilden."
      ],
      "metadata": {
        "id": "VOEhiLRqGQgu"
      },
      "id": "VOEhiLRqGQgu"
    },
    {
      "cell_type": "code",
      "source": [
        "import uuid\n",
        "\n",
        "# Basisklasse aller genutzen Komponenten\n",
        "class SystemPart:\n",
        "\n",
        "    def __init__(self, bezeichnung):\n",
        "        self.bezeichnung = bezeichnung \n",
        "        # die Identifikation soll nach der Intialisierung nicht mehr änderbar sein\n",
        "        self._id = str(uuid.uuid4())\n",
        "    \n",
        "    # aber wir wollen die Identifikation noch lesen können\n",
        "    @property\n",
        "    def id(self):\n",
        "        return self._id\n"
      ],
      "metadata": {
        "id": "DewqGFJFIZC9"
      },
      "id": "DewqGFJFIZC9",
      "execution_count": 12,
      "outputs": []
    },
    {
      "cell_type": "markdown",
      "source": [
        "Wir erzeugen nun unsere Aktor und unsere Sensor-Klasse ohne weitere Änderungen der der Eigenschaften vorzunehmen. Daher nutzen wir das `pass`-Schlüsselwort in der Definition der Klassen."
      ],
      "metadata": {
        "id": "io82UcekK9yC"
      },
      "id": "io82UcekK9yC"
    },
    {
      "cell_type": "code",
      "source": [
        "class Aktor(SystemPart):\n",
        "  pass"
      ],
      "metadata": {
        "id": "miohVc82JqkC"
      },
      "id": "miohVc82JqkC",
      "execution_count": 13,
      "outputs": []
    },
    {
      "cell_type": "code",
      "source": [
        "class Sensor(SystemPart):\n",
        "  pass"
      ],
      "metadata": {
        "id": "C8ORn2jdJzJa"
      },
      "id": "C8ORn2jdJzJa",
      "execution_count": 14,
      "outputs": []
    },
    {
      "cell_type": "markdown",
      "source": [
        "Jetzt können wir unsere Sensoren und Aktoren wie zuvor definieren und dabei die Vererbung ausnutzen. \n",
        "\n",
        "**Beachten Sie**, dass wir durch die Vererbung, die Eigenschaften der Basis ebenfalls erhalten. In unserem Fall ist das nur eine Bezeichnung und eine Identifikation (auf Basis einer UUID). "
      ],
      "metadata": {
        "id": "RTPxthIzLPtK"
      },
      "id": "RTPxthIzLPtK"
    },
    {
      "cell_type": "code",
      "source": [
        "class LuftdruckAktor(Aktor):\n",
        "    \n",
        "    def __init__(self, b, d1, d2):\n",
        "        super().__init__(b)\n",
        "        self.druck1 = d1 # einfacher Druck\n",
        "        self.druck2 = d2 # erhöhter Druck\n",
        "        \n",
        "    def pusten(self, ist_werkstueck_in_ordnung):\n",
        "        if (ist_werkstueck_in_ordnung):\n",
        "            print(\"pusten: \", self.druck1, \" , Werkstueck in Ordnung.\")\n",
        "        else:\n",
        "            print(\"pusten: \", self.druck2, \" , Werkstueck ist Ausschuss.\")"
      ],
      "metadata": {
        "id": "5nYdX2YXIY3V"
      },
      "id": "5nYdX2YXIY3V",
      "execution_count": 15,
      "outputs": []
    },
    {
      "cell_type": "code",
      "source": [
        "class BildSensor(Sensor):\n",
        "    \n",
        "    def __init__(self,bezeichner,r,g,b):\n",
        "        super().__init__(bezeichner)\n",
        "        self.minRot = r     # minimaler Rotwert \n",
        "        self.maxGruen = g   # maximaler Grünwert \n",
        "        self.maxBlau = b    # maximaler Blauwert\n",
        "        \n",
        "    def pruefen(self, werkstueck) -> bool:\n",
        "        if (\n",
        "            (werkstueck['r'] >= self.minRot) and\n",
        "            (werkstueck['g'] <= self.maxGruen) and\n",
        "            (werkstueck['b'] <= self.maxBlau)\n",
        "        ):\n",
        "            return True\n",
        "        else:\n",
        "            return False"
      ],
      "metadata": {
        "id": "YqgID4S1IYLK"
      },
      "id": "YqgID4S1IYLK",
      "execution_count": 16,
      "outputs": []
    },
    {
      "cell_type": "markdown",
      "source": [
        "Instanziieren und prüfen wir nun wiederum unsere Objekte:"
      ],
      "metadata": {
        "id": "s0w4qyMeL5Ri"
      },
      "id": "s0w4qyMeL5Ri"
    },
    {
      "cell_type": "code",
      "source": [
        "aktor3 = LuftdruckAktor(\"Luftdruck Aktor\", 100, 300)\n",
        "sensor3 = BildSensor(\"Bildsensor\", 160, 48, 48)"
      ],
      "metadata": {
        "id": "mlhtAB94KL55"
      },
      "id": "mlhtAB94KL55",
      "execution_count": 17,
      "outputs": []
    },
    {
      "cell_type": "code",
      "source": [
        "from pprint import pprint\n",
        "\n",
        "print(\"<<<<Aktor>>>>\")\n",
        "pprint(vars(aktor3))\n",
        "print(\"\\n<<<<Sensor>>>>\")\n",
        "pprint(vars(sensor3))"
      ],
      "metadata": {
        "colab": {
          "base_uri": "https://localhost:8080/"
        },
        "id": "17NWqmVgMowV",
        "outputId": "03d6bf54-5bec-4159-d5ef-1d264587f1a0"
      },
      "id": "17NWqmVgMowV",
      "execution_count": 18,
      "outputs": [
        {
          "output_type": "stream",
          "name": "stdout",
          "text": [
            "<<<<Aktor>>>>\n",
            "{'_id': 'afd44259-c3ce-4293-989d-9ed0be6088c5',\n",
            " 'bezeichnung': 'Luftdruck Aktor',\n",
            " 'druck1': 100,\n",
            " 'druck2': 300}\n",
            "\n",
            "<<<<Sensor>>>>\n",
            "{'_id': '974d4b38-7bd0-46e5-80a0-7745f4a7e14b',\n",
            " 'bezeichnung': 'Bildsensor',\n",
            " 'maxBlau': 48,\n",
            " 'maxGruen': 48,\n",
            " 'minRot': 160}\n"
          ]
        }
      ]
    },
    {
      "cell_type": "markdown",
      "source": [
        "##Aufgabe\n",
        "1.   Definieren Sie nun analog einen Feuchtigkeits- und einen Temperatursensor.\n",
        "2.   Ändern Sie die Klassen `LuftdruckAktor` und `BildSensor` so, dass die grundlegenden Eigenschaften (Drücke beim `LuftdruckAktor` und Farbwerte beim `BildSensor`) nach der Initialisierung von Objekten nicht mehr änderbar sind.\n",
        "\n"
      ],
      "metadata": {
        "id": "TC5-z4d3NDMU"
      },
      "id": "TC5-z4d3NDMU"
    }
  ],
  "metadata": {
    "kernelspec": {
      "display_name": "Python 3 (ipykernel)",
      "language": "python",
      "name": "python3"
    },
    "language_info": {
      "codemirror_mode": {
        "name": "ipython",
        "version": 3
      },
      "file_extension": ".py",
      "mimetype": "text/x-python",
      "name": "python",
      "nbconvert_exporter": "python",
      "pygments_lexer": "ipython3",
      "version": "3.9.13"
    },
    "colab": {
      "provenance": [],
      "collapsed_sections": [
        "4JSQizDcHE9E"
      ],
      "toc_visible": true
    }
  },
  "nbformat": 4,
  "nbformat_minor": 5
}